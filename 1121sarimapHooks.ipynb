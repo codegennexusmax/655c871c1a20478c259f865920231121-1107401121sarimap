{
 "cells": [
  {
   "cell_type": "markdown",
   "id": "8f0f6e91",
   "metadata": {},
   "source": [
    "***EXTENSIONS FOR 1121sarimap PIPELINE YOU CAN EDIT THESE EXTENSIONS***"
   ]
  },
  {
   "cell_type": "markdown",
   "id": "91a6b4f6",
   "metadata": {},
   "source": [
    "***EXTENSIONS FOR SOURCE STAGE***"
   ]
  },
  {
   "cell_type": "code",
   "execution_count": null,
   "id": "6d33dabe",
   "metadata": {},
   "outputs": [],
   "source": [
    "def sourcePreExecutionHook():\n",
    "\tprint('inside source pre execution hook')\n",
    "\n",
    "\n",
    "def sourcePostExecutionHook(data):\n",
    "\tprint('inside source post execution hook')\n",
    "\n",
    "\n"
   ]
  },
  {
   "cell_type": "markdown",
   "id": "0144c286",
   "metadata": {},
   "source": [
    "***EXTENSIONS FOR PREDICTION STAGE***"
   ]
  },
  {
   "cell_type": "code",
   "execution_count": null,
   "id": "4058aa30",
   "metadata": {},
   "outputs": [],
   "source": [
    "def prediction-pipelinePreExecutionHook():\n",
    "\tprint('inside prediction-pipeline pre execution hook')\n",
    "\n",
    "\n",
    "def prediction-pipelinePostExecutionHook(data):\n",
    "\tprint('inside prediction-pipeline post execution hook')\n",
    "\n",
    "\n"
   ]
  },
  {
   "cell_type": "markdown",
   "id": "eed5a2f5",
   "metadata": {},
   "source": [
    "***EXTENSIONS FOR SINK STAGE***"
   ]
  },
  {
   "cell_type": "code",
   "execution_count": null,
   "id": "d89289c5",
   "metadata": {},
   "outputs": [],
   "source": [
    "def sinkPreExecutionHook():\n",
    "\tprint('inside sink pre execution hook')\n",
    "\n",
    "\n",
    "def sinkPostExecutionHook(data):\n",
    "\tprint('inside sink post execution hook')\n",
    "\n",
    "\n"
   ]
  }
 ],
 "metadata": {},
 "nbformat": 4,
 "nbformat_minor": 5
}
